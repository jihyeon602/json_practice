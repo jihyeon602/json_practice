{
 "cells": [
  {
   "cell_type": "code",
   "execution_count": 1,
   "metadata": {},
   "outputs": [],
   "source": [
    "import json"
   ]
  },
  {
   "cell_type": "markdown",
   "metadata": {},
   "source": [
    "### json.load\n",
    "- JSON 파일 객체를 Python에서 사용할 수 있는 객체로 변환하는 함수"
   ]
  },
  {
   "cell_type": "code",
   "execution_count": 2,
   "metadata": {},
   "outputs": [
    {
     "name": "stdout",
     "output_type": "stream",
     "text": [
      "{'employee': {'id': 123, 'name': 'Queen', 'department': 'HR', 'skills': ['communication', 'teamwork']}}\n"
     ]
    }
   ],
   "source": [
    "with open('data/target.json') as json_file:\n",
    "    parsed_data = json.load(json_file)\n",
    "\n",
    "print(parsed_data)"
   ]
  },
  {
   "cell_type": "markdown",
   "metadata": {},
   "source": [
    "- 파일이 딕셔너리 형태: 딕셔너리 자료형을 이용하는 것과 동일하게 이용가능"
   ]
  },
  {
   "cell_type": "code",
   "execution_count": 4,
   "metadata": {},
   "outputs": [
    {
     "name": "stdout",
     "output_type": "stream",
     "text": [
      "<class 'dict'>\n",
      "{'id': 123, 'name': 'Queen', 'department': 'HR', 'skills': ['communication', 'teamwork']}\n",
      "['communication', 'teamwork']\n",
      "<class 'list'>\n"
     ]
    }
   ],
   "source": [
    "print(type(parsed_data))\n",
    "print(parsed_data['employee'])\n",
    "print(parsed_data['employee']['skills'])\n",
    "print(type(parsed_data['employee']['skills']))"
   ]
  },
  {
   "cell_type": "markdown",
   "metadata": {},
   "source": [
    "### json.dump\n",
    "- Python 객체를 JSON 파일 객체로 변환하는 함수"
   ]
  },
  {
   "cell_type": "markdown",
   "metadata": {},
   "source": [
    "(1) Dic -> JSON"
   ]
  },
  {
   "cell_type": "code",
   "execution_count": 5,
   "metadata": {},
   "outputs": [
    {
     "name": "stdout",
     "output_type": "stream",
     "text": [
      "<class 'dict'>\n"
     ]
    }
   ],
   "source": [
    "json_data_dic = {\"name\" : \"elice\", \"age\" : 25, \"email\" : \"rabbit@elicer.com\"}\n",
    "\n",
    "print(type(json_data_dic))"
   ]
  },
  {
   "cell_type": "code",
   "execution_count": 6,
   "metadata": {},
   "outputs": [],
   "source": [
    "with open(\"create_file1.json\", \"w\") as f :\n",
    "    json.dump(json_data_dic, f)"
   ]
  },
  {
   "cell_type": "markdown",
   "metadata": {},
   "source": [
    "(2) List -> JSON"
   ]
  },
  {
   "cell_type": "code",
   "execution_count": 7,
   "metadata": {},
   "outputs": [
    {
     "name": "stdout",
     "output_type": "stream",
     "text": [
      "<class 'list'>\n"
     ]
    }
   ],
   "source": [
    "json_data_list = [{\"name\" : \"elice\", \"age\" : 25}, {\"name\" : \"Queen\", \"age\" : 47}, {\"name\" : \"Carrot\", \"age\" : 1}]\n",
    "\n",
    "print(type(json_data_list))\n",
    "\n",
    "with open(\"create_file2.json\", \"w\") as f :\n",
    "    json.dump(json_data_list, f)"
   ]
  },
  {
   "cell_type": "markdown",
   "metadata": {},
   "source": [
    "### json.loads\n",
    "- 문자열로 표현된 JSON 데이터를 Python 객체로 변환하는 함수"
   ]
  },
  {
   "cell_type": "code",
   "execution_count": 8,
   "metadata": {},
   "outputs": [
    {
     "name": "stdout",
     "output_type": "stream",
     "text": [
      "<class 'str'>\n"
     ]
    }
   ],
   "source": [
    "str_json = '{\"employee\": {\"id\": 123, \"name\": \"Queen\", \"department\": \"HR\", \"skills\": [\"communication\", \"teamwork\"]}}'\n",
    "\n",
    "print(type(str_json))"
   ]
  },
  {
   "cell_type": "code",
   "execution_count": 9,
   "metadata": {},
   "outputs": [
    {
     "name": "stdout",
     "output_type": "stream",
     "text": [
      "{'employee': {'id': 123, 'name': 'Queen', 'department': 'HR', 'skills': ['communication', 'teamwork']}}\n"
     ]
    }
   ],
   "source": [
    "loads_data = json.loads(str_json)\n",
    "\n",
    "print(loads_data)"
   ]
  },
  {
   "cell_type": "code",
   "execution_count": 10,
   "metadata": {},
   "outputs": [
    {
     "name": "stdout",
     "output_type": "stream",
     "text": [
      "<class 'dict'>\n",
      "['communication', 'teamwork']\n",
      "<class 'list'>\n"
     ]
    }
   ],
   "source": [
    "print(type(loads_data))\n",
    "print(loads_data[\"employee\"]['skills'])\n",
    "print(type(loads_data[\"employee\"]['skills']))"
   ]
  },
  {
   "cell_type": "markdown",
   "metadata": {},
   "source": [
    "### json.dumps\n",
    "- Python 객체를 문자열로 표현된 JSON 데이터로 변환하는 함수"
   ]
  },
  {
   "cell_type": "code",
   "execution_count": 11,
   "metadata": {},
   "outputs": [
    {
     "name": "stdout",
     "output_type": "stream",
     "text": [
      "<class 'dict'>\n"
     ]
    }
   ],
   "source": [
    "dic_data = {\"employee\": {\"id\": 123, \"name\": \"Queen\", \"department\": \"HR\", \"skills\": [\"communication\", \"teamwork\"]}}\n",
    "\n",
    "print(type(dic_data))"
   ]
  },
  {
   "cell_type": "code",
   "execution_count": 12,
   "metadata": {},
   "outputs": [
    {
     "name": "stdout",
     "output_type": "stream",
     "text": [
      "{\"employee\": {\"id\": 123, \"name\": \"Queen\", \"department\": \"HR\", \"skills\": [\"communication\", \"teamwork\"]}}\n",
      "<class 'str'>\n"
     ]
    }
   ],
   "source": [
    "dumps_data = json.dumps(dic_data)\n",
    "\n",
    "print(dumps_data)\n",
    "print(type(dumps_data))"
   ]
  },
  {
   "cell_type": "code",
   "execution_count": 13,
   "metadata": {},
   "outputs": [
    {
     "name": "stdout",
     "output_type": "stream",
     "text": [
      "{\n",
      "    \"employee\": {\n",
      "        \"id\": 123,\n",
      "        \"name\": \"Queen\",\n",
      "        \"department\": \"HR\",\n",
      "        \"skills\": [\n",
      "            \"communication\",\n",
      "            \"teamwork\"\n",
      "        ]\n",
      "    }\n",
      "}\n"
     ]
    }
   ],
   "source": [
    "# indent 인자를 추가하여 출력에서 들여쓰기\n",
    "dumps_data2 = json.dumps(dic_data, indent=4)\n",
    "print(dumps_data2)"
   ]
  },
  {
   "cell_type": "markdown",
   "metadata": {},
   "source": [
    "### [TODO] JSON 파일을 파싱하여 새로 저장하기\n",
    "- data 폴더에 있는 parsing_target.json 은 자동차 주행 중에 센서로 습득한 데이터의 일부분입니다.\n",
    "- 해당 데이터를 읽고 GPS 위도(latitude)와 경도(longitude) 데이터를 추출하여 result1.json에 저장하는 코드를 작성하세요"
   ]
  },
  {
   "cell_type": "code",
   "execution_count": 18,
   "metadata": {},
   "outputs": [
    {
     "name": "stdout",
     "output_type": "stream",
     "text": [
      "{'filename': 'parsing_target', 'vehicle_id': 'AIMMO-ADCV1', 'region_name': '경기 성남시 분당구', 'location': '야탑동 487-1', 'length': 11, 'framerate': 10, 'data_purpose': 'train', 'time': 'day', 'road_feature': 'r_cityroad', 'gps_latitude': 37.41473487066775, 'gps_longitude': 127.12871262424409, 'long_velocity': 14.86, 'lat_velocity': -0.13, 'long_accel': 0.25, 'lat_accel': -0.01}\n"
     ]
    }
   ],
   "source": [
    "json_path = \"data/parsing_target.json\"\n",
    "\n",
    "# JSON 파일을 읽는 코드를 작성해주세요.\n",
    "with open(json_path, 'r') as json_file:\n",
    "    parsed_data = json.load(json_file)\n",
    "\n",
    "# 추출한 데이터를 확인하는 코드입니다.\n",
    "print(parsed_data)"
   ]
  },
  {
   "cell_type": "code",
   "execution_count": 15,
   "metadata": {},
   "outputs": [],
   "source": [
    "# 추출한 데이터에서 위도와 경도 데이터를 추출하는 코드를 작성해주세요.\n",
    "latitude = parsed_data['gps_latitude']\n",
    "longitude = parsed_data['gps_longitude']"
   ]
  },
  {
   "cell_type": "code",
   "execution_count": 25,
   "metadata": {},
   "outputs": [
    {
     "name": "stdout",
     "output_type": "stream",
     "text": [
      "[{'lat': 37.41473487066775, 'lon': 127.12871262424409}]\n",
      "<class 'list'>\n"
     ]
    }
   ],
   "source": [
    "# 추출한 데이터를 배열 형태로 저장하는 코드를 작성하세요.\n",
    "gps_data = [{'lat': latitude, 'lon': longitude}]\n",
    "\n",
    "print(gps_data)\n",
    "print(type(gps_data))"
   ]
  },
  {
   "cell_type": "code",
   "execution_count": 26,
   "metadata": {},
   "outputs": [],
   "source": [
    "# 추출한 데이터를 JSON 파일로 저장하는 코드를 작성하세요. \n",
    "\n",
    "with open(\"result1.json\", 'w') as result_file:\n",
    "    json.dump(gps_data, result_file)"
   ]
  }
 ],
 "metadata": {
  "kernelspec": {
   "display_name": "base",
   "language": "python",
   "name": "python3"
  },
  "language_info": {
   "codemirror_mode": {
    "name": "ipython",
    "version": 3
   },
   "file_extension": ".py",
   "mimetype": "text/x-python",
   "name": "python",
   "nbconvert_exporter": "python",
   "pygments_lexer": "ipython3",
   "version": "3.12.7"
  }
 },
 "nbformat": 4,
 "nbformat_minor": 2
}
